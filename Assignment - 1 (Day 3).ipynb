{
 "cells": [
  {
   "cell_type": "code",
   "execution_count": 11,
   "metadata": {},
   "outputs": [
    {
     "name": "stdout",
     "output_type": "stream",
     "text": [
      "Enter Altitude - 1000\n",
      "Safe to Land\n"
     ]
    }
   ],
   "source": [
    "number = int(input(\"Enter Altitude - \"))\n",
    "\n",
    "if number <= 1000:\n",
    "    print(\"Safe to Land\")\n",
    "elif number >= 5000:\n",
    "    print(\"Turn Around\")\n",
    "else:\n",
    "    print(\"Bring down to 1000\")"
   ]
  },
  {
   "cell_type": "code",
   "execution_count": null,
   "metadata": {},
   "outputs": [],
   "source": []
  }
 ],
 "metadata": {
  "kernelspec": {
   "display_name": "Python 3",
   "language": "python",
   "name": "python3"
  },
  "language_info": {
   "codemirror_mode": {
    "name": "ipython",
    "version": 3
   },
   "file_extension": ".py",
   "mimetype": "text/x-python",
   "name": "python",
   "nbconvert_exporter": "python",
   "pygments_lexer": "ipython3",
   "version": "3.8.3"
  }
 },
 "nbformat": 4,
 "nbformat_minor": 4
}
