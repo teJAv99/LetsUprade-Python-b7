{
 "cells": [
  {
   "cell_type": "code",
   "execution_count": 2,
   "metadata": {},
   "outputs": [
    {
     "name": "stdout",
     "output_type": "stream",
     "text": [
      "Its a Match\n"
     ]
    }
   ],
   "source": [
    "lst=[1, 5, 6, 4, 1, 2, 3, 5]\n",
    "sublist = [1,1,5]\n",
    "for i in range(len(lst)): \n",
    "    if lst[i] == sublist[0]:\n",
    "        for j in range(i+1,len(lst)): \n",
    "            if lst[j] == sublist[1]:\n",
    "                for k in range(j+1,len(lst)): \n",
    "                    if lst[k] == sublist[2]:\n",
    "                        print(\"Its a Match\") \n",
    "                        break\n",
    "                break\n",
    "\n",
    "        break\n",
    "else:\n",
    "    print(\"Its gone\")"
   ]
  },
  {
   "cell_type": "code",
   "execution_count": null,
   "metadata": {},
   "outputs": [],
   "source": []
  }
 ],
 "metadata": {
  "kernelspec": {
   "display_name": "Python 3",
   "language": "python",
   "name": "python3"
  },
  "language_info": {
   "codemirror_mode": {
    "name": "ipython",
    "version": 3
   },
   "file_extension": ".py",
   "mimetype": "text/x-python",
   "name": "python",
   "nbconvert_exporter": "python",
   "pygments_lexer": "ipython3",
   "version": "3.8.3"
  }
 },
 "nbformat": 4,
 "nbformat_minor": 4
}
