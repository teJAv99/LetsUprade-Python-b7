{
 "cells": [
  {
   "cell_type": "code",
   "execution_count": 3,
   "metadata": {},
   "outputs": [
    {
     "name": "stdout",
     "output_type": "stream",
     "text": [
      "Enter 'x' for exit.\n",
      "Enter the interval (starting and ending number): \n",
      "1\n",
      "1000\n",
      "1\n",
      "153\n",
      "370\n",
      "371\n",
      "407\n"
     ]
    }
   ],
   "source": [
    "print( \"Enter 'x' for exit.\");\n",
    "print( \"Enter the interval (starting and ending number): \"); \n",
    "start = input();\n",
    "if start == 'x': \n",
    "    exit();\n",
    "else:\n",
    "    end = input(); \n",
    "    lower = int(start); \n",
    "    upper = int(end);\n",
    "    for num in range(lower, upper +1): \n",
    "        tot = 0 ;\n",
    "        temp = num;\n",
    "        while temp != 0 :\n",
    "            dig = temp % 10; \n",
    "            tot += dig ** 3; \n",
    "            temp //= 10;\n",
    "        if num == tot: \n",
    "            print( num) ;\n"
   ]
  },
  {
   "cell_type": "code",
   "execution_count": null,
   "metadata": {},
   "outputs": [],
   "source": []
  }
 ],
 "metadata": {
  "kernelspec": {
   "display_name": "Python 3",
   "language": "python",
   "name": "python3"
  },
  "language_info": {
   "codemirror_mode": {
    "name": "ipython",
    "version": 3
   },
   "file_extension": ".py",
   "mimetype": "text/x-python",
   "name": "python",
   "nbconvert_exporter": "python",
   "pygments_lexer": "ipython3",
   "version": "3.8.3"
  }
 },
 "nbformat": 4,
 "nbformat_minor": 4
}
